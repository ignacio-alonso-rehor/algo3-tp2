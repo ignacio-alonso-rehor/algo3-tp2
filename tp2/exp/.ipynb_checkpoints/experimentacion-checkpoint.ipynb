{
 "cells": [
  {
   "cell_type": "code",
   "execution_count": null,
   "id": "30a15009",
   "metadata": {},
   "outputs": [],
   "source": [
    "import pandas as pd\n",
    "import tqdm\n",
    "import tsp"
   ]
  },
  {
   "cell_type": "code",
   "execution_count": null,
   "id": "16dfcff1",
   "metadata": {},
   "outputs": [],
   "source": [
    "tsp.run('NN', 'i_txt/kroE100.txt')"
   ]
  },
  {
   "cell_type": "code",
   "execution_count": null,
   "id": "e81eb4eb",
   "metadata": {},
   "outputs": [],
   "source": [
    "df = pd.read_csv('instancias.csv')\n",
    "df_instancias = df[df['dim'] < 200]\n",
    "df_instancias.head()"
   ]
  },
  {
   "cell_type": "markdown",
   "id": "476fb63c",
   "metadata": {},
   "source": [
    "**Experimento : Rendimiento de las heurísticas golosas**\n",
    "\n",
    "En este experimento se busca evaluar el rendimiento de las heurísticas golosas implementadas. Se busca cuantificar qué tan buenas son estas heurísticas para encontrar una solución y qué tanto se aproxima esta la óptima. "
   ]
  },
  {
   "cell_type": "code",
   "execution_count": null,
   "id": "8a8ee4f1",
   "metadata": {},
   "outputs": [],
   "source": [
    "df_greedy = pd.DataFrame()\n",
    "\n",
    "GREEDY = ['NN', 'FI', 'AGM']\n",
    "\n",
    "for _ in range(5):\n",
    "    for g in tqdm.tqdm(GREEDY):\n",
    "        for _, row in df_instancias.iterrows():\n",
    "            \n",
    "            instancia = row['instancia']\n",
    "            file = f'./i_txt/{instancia}.txt'\n",
    "            costo, tiempo = tsp.run(g, file)\n",
    "            \n",
    "            entry = {\n",
    "                'instancia' : row['instancia'],\n",
    "                'dim' : row['dim'],\n",
    "                'heuristica' : g,\n",
    "                'tiempo' : tiempo,\n",
    "                'costo' : costo,\n",
    "                'gap' : (costo - row['inf']) / row['inf'],\n",
    "            }\n",
    "            df_greedy = df_greedy.append(entry, ignore_index=True)\n",
    "df_greedy.to_csv('greedy.csv', index=False)"
   ]
  },
  {
   "cell_type": "markdown",
   "id": "b230dd1d",
   "metadata": {},
   "source": [
    "**Experimento : TabúSearch - Optimización de parámetros**\n",
    "\n",
    "- Sería interesante evaluar el porcentaje de caminos totales que estamos guardando. Para este experimento vamos a correrlo sobre `TS-C`.\n",
    "- La cantidad de iteraciones debería ser por lo menos la cantidad de memoria?Mi razonamiento es que en cada iteracion de tabu search a lo sumo guardamos un circuito en la memoria, luego, para que \n",
    "- Hay que definir el vecindario 2opt."
   ]
  },
  {
   "cell_type": "code",
   "execution_count": null,
   "id": "589e8d62",
   "metadata": {},
   "outputs": [],
   "source": [
    "df_instancias_low = df_instancias[df_instancias['dim'] <= 100]\n",
    "df_tabu = pd.DataFrame(columns=['instancia','dim','heuristica','tiempo', 'costo', 'gap', 'iteraciones', 'memoria', 'vecindad'])\n",
    "df_tabu = df_tabu.astype({'dim': 'int64', 'tiempo': 'float64', 'costo': 'int64', 'gap':'float64', 'iteraciones': 'int64', 'memoria': 'int64', 'vecindad': 'int64'})\n",
    "HEUR = ['TS-C', 'TS-S']\n",
    "\n",
    "VECINDAD = [10, 20, 50, 80, 100]\n",
    "MEMORIA = [50, 100, 200, 500, 1000]\n",
    "ITERACIONES = [50, 100, 200, 500, 1000]\n",
    "\n",
    "for _ in range(3):\n",
    "    for h in tqdm.tqdm(HEUR):\n",
    "        for _, row in df_instancias_low.iterrows():\n",
    "            for vec in VECINDAD:\n",
    "                for it in ITERACIONES:\n",
    "                    for mem in MEMORIA:\n",
    "                        if mem > it:\n",
    "                            continue\n",
    "                        \n",
    "                        instancia = row['instancia']\n",
    "                        file = f'./i_txt/{instancia}.txt'\n",
    "                        costo, tiempo = tsp.run(h, file, it, mem, vec)\n",
    "                        \n",
    "                        entry = {\n",
    "                            'instancia' : instancia,\n",
    "                            'dim' : row['dim'],\n",
    "                            'heuristica' : h,\n",
    "                            'tiempo' : tiempo,\n",
    "                            'costo' : costo,\n",
    "                            'gap' : (costo - row['inf']) / row['inf'],\n",
    "                            'iteraciones' : it,\n",
    "                            'memoria' : mem,\n",
    "                            'vecindad' : vec,\n",
    "                        }\n",
    "            \n",
    "                        df_tabu = df_tabu.append(entry, ignore_index=True)\n",
    "            df_tabu.to_csv('tabu_parcial.csv', index=False)\n",
    "df_tabu.to_csv('tabu.csv', index=False)"
   ]
  }
 ],
 "metadata": {
  "kernelspec": {
   "display_name": "Python 3.9.3 64-bit ('algo3-tp1': venv)",
   "language": "python",
   "name": "python39364bitalgo3tp1venv54ff8ce56bdc45bab5a277cf08d2b074"
  },
  "language_info": {
   "codemirror_mode": {
    "name": "ipython",
    "version": 3
   },
   "file_extension": ".py",
   "mimetype": "text/x-python",
   "name": "python",
   "nbconvert_exporter": "python",
   "pygments_lexer": "ipython3",
   "version": "3.9.6"
  }
 },
 "nbformat": 4,
 "nbformat_minor": 5
}
